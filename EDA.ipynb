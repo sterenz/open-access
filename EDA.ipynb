{
  "nbformat": 4,
  "nbformat_minor": 0,
  "metadata": {
    "colab": {
      "provenance": [],
      "collapsed_sections": [
        "ARiyO7pCy_nL",
        "oFxkhUWM050B",
        "2tVBkEZ40aVM"
      ],
      "authorship_tag": "ABX9TyPWdSiRbHEdMkFr54dVN1kZ",
      "include_colab_link": true
    },
    "kernelspec": {
      "name": "python3",
      "display_name": "Python 3"
    },
    "language_info": {
      "name": "python"
    }
  },
  "cells": [
    {
      "cell_type": "markdown",
      "metadata": {
        "id": "view-in-github",
        "colab_type": "text"
      },
      "source": [
        "<a href=\"https://colab.research.google.com/github/sterenz/open-access/blob/main/EDA.ipynb\" target=\"_parent\"><img src=\"https://colab.research.google.com/assets/colab-badge.svg\" alt=\"Open In Colab\"/></a>"
      ]
    },
    {
      "cell_type": "markdown",
      "source": [
        "# EDA template\n",
        "This template has been developed for Open Access and Digital Ethics exam EDA pipeline.\n",
        "Please feel free to reuse, we'd be happy if you could mention [our project](\"https://github.com/\")"
      ],
      "metadata": {
        "id": "ARiyO7pCy_nL"
      }
    },
    {
      "cell_type": "markdown",
      "source": [
        "# Libraries and ingesting data\n",
        "\n"
      ],
      "metadata": {
        "id": "oFxkhUWM050B"
      }
    },
    {
      "cell_type": "code",
      "source": [
        "# Scientific libraries\n",
        "import numpy as np\n",
        "import pandas as pd\n",
        "import matplotlib.pyplot as plt\n",
        "import plotly.express as px\n",
        "import seaborn as sns"
      ],
      "metadata": {
        "id": "8E4816DM074C"
      },
      "execution_count": null,
      "outputs": []
    },
    {
      "cell_type": "code",
      "source": [
        "!ls"
      ],
      "metadata": {
        "id": "1zk7-lh280si",
        "colab": {
          "base_uri": "https://localhost:8080/"
        },
        "outputId": "05c714b0-5414-4ab5-d5ee-b6a2677251ec"
      },
      "execution_count": null,
      "outputs": [
        {
          "output_type": "stream",
          "name": "stdout",
          "text": [
            "open-access  sample_data\n"
          ]
        }
      ]
    },
    {
      "cell_type": "code",
      "source": [
        "! git clone https://github.com/sterenz/open-access.git"
      ],
      "metadata": {
        "id": "nF6x5Bpw9DHo",
        "colab": {
          "base_uri": "https://localhost:8080/"
        },
        "outputId": "c6ac2b87-89fe-404a-8b1e-1ea951a461bc"
      },
      "execution_count": null,
      "outputs": [
        {
          "output_type": "stream",
          "name": "stdout",
          "text": [
            "fatal: destination path 'open-access' already exists and is not an empty directory.\n"
          ]
        }
      ]
    },
    {
      "cell_type": "code",
      "source": [
        "!ls"
      ],
      "metadata": {
        "colab": {
          "base_uri": "https://localhost:8080/"
        },
        "id": "uF3RUPw1LkBV",
        "outputId": "2ac5ed44-fd1b-444a-c53c-2281fcad7d81"
      },
      "execution_count": null,
      "outputs": [
        {
          "output_type": "stream",
          "name": "stdout",
          "text": [
            "open-access  sample_data\n"
          ]
        }
      ]
    },
    {
      "cell_type": "markdown",
      "source": [
        "# [Basic Exploration]\n",
        "**In this section we're retreiving basically the number of immigrants in Italy in 2019, 2020 and 2021, according to a specification about females, males and total number of immigrants in Italy.**\n",
        "\n"
      ],
      "metadata": {
        "id": "2tVBkEZ40aVM"
      }
    },
    {
      "cell_type": "code",
      "source": [
        "#IMMIGRANTS IN ITALY (NUMBER OF)\n",
        "eda1_path_19 = '/content/open-access/_datasets/Bilancio Demografico Stranieri/Bilancio demografico popolazione straniera-2019.csv'\n",
        "eda1_path_20 = '/content/open-access/_datasets/Bilancio Demografico Stranieri/Bilancio demografico popolazione straniera-2020.csv'\n",
        "eda1_path_21 = '/content/open-access/_datasets/Bilancio Demografico Stranieri/Bilancio demografico popolazione straniera-2021.csv'"
      ],
      "metadata": {
        "id": "4N5m9zaJLlhZ"
      },
      "execution_count": null,
      "outputs": []
    },
    {
      "cell_type": "code",
      "source": [
        "#test\n",
        "eda1_path_19"
      ],
      "metadata": {
        "colab": {
          "base_uri": "https://localhost:8080/",
          "height": 36
        },
        "id": "vgcr1FPnLzVz",
        "outputId": "ae66a035-a002-472f-a87c-ec099c0e780d"
      },
      "execution_count": null,
      "outputs": [
        {
          "output_type": "execute_result",
          "data": {
            "text/plain": [
              "'/content/open-access/_datasets/Bilancio Demografico Stranieri/Bilancio demografico popolazione straniera-2019.csv'"
            ],
            "application/vnd.google.colaboratory.intrinsic+json": {
              "type": "string"
            }
          },
          "metadata": {},
          "execution_count": 99
        }
      ]
    },
    {
      "cell_type": "code",
      "source": [
        "eda1_df19 = pd.read_csv(eda1_path_19)\n",
        "eda1_df20 = pd.read_csv(eda1_path_20)\n",
        "eda1_df21 = pd.read_csv(eda1_path_21)"
      ],
      "metadata": {
        "id": "1iPxjBl2L_26"
      },
      "execution_count": null,
      "outputs": []
    },
    {
      "cell_type": "code",
      "source": [
        "#uncomment to see the head of the datasets\n",
        "eda1_df19.head()\n",
        "#eda1_df20.head()\n",
        "#eda1_df21.head()\n"
      ],
      "metadata": {
        "id": "7EJZhSXmMpO_",
        "colab": {
          "base_uri": "https://localhost:8080/",
          "height": 206
        },
        "outputId": "580bd0bd-f89d-4769-bcf0-9ba0ca7de18f"
      },
      "execution_count": null,
      "outputs": [
        {
          "output_type": "execute_result",
          "data": {
            "text/plain": [
              "                                        Variabile     Maschi    Femmine  \\\n",
              "0             Popolazione straniera al 1° gennaio  2524644.0  2647250.0   \n",
              "1                             Nati vivi stranieri    29041.0    27885.0   \n",
              "2                                 Morti stranieri     5243.0     4757.0   \n",
              "3       Saldo naturale anagrafico degli stranieri    23798.0    23128.0   \n",
              "4  Stranieri iscritti in anagrafe da altro comune   136406.0   119761.0   \n",
              "\n",
              "      Totale  \n",
              "0  5171894.0  \n",
              "1    56926.0  \n",
              "2    10000.0  \n",
              "3    46926.0  \n",
              "4   256167.0  "
            ],
            "text/html": [
              "\n",
              "  <div id=\"df-96f57728-f746-4d9a-8433-61bb40764289\">\n",
              "    <div class=\"colab-df-container\">\n",
              "      <div>\n",
              "<style scoped>\n",
              "    .dataframe tbody tr th:only-of-type {\n",
              "        vertical-align: middle;\n",
              "    }\n",
              "\n",
              "    .dataframe tbody tr th {\n",
              "        vertical-align: top;\n",
              "    }\n",
              "\n",
              "    .dataframe thead th {\n",
              "        text-align: right;\n",
              "    }\n",
              "</style>\n",
              "<table border=\"1\" class=\"dataframe\">\n",
              "  <thead>\n",
              "    <tr style=\"text-align: right;\">\n",
              "      <th></th>\n",
              "      <th>Variabile</th>\n",
              "      <th>Maschi</th>\n",
              "      <th>Femmine</th>\n",
              "      <th>Totale</th>\n",
              "    </tr>\n",
              "  </thead>\n",
              "  <tbody>\n",
              "    <tr>\n",
              "      <th>0</th>\n",
              "      <td>Popolazione straniera al 1° gennaio</td>\n",
              "      <td>2524644.0</td>\n",
              "      <td>2647250.0</td>\n",
              "      <td>5171894.0</td>\n",
              "    </tr>\n",
              "    <tr>\n",
              "      <th>1</th>\n",
              "      <td>Nati vivi stranieri</td>\n",
              "      <td>29041.0</td>\n",
              "      <td>27885.0</td>\n",
              "      <td>56926.0</td>\n",
              "    </tr>\n",
              "    <tr>\n",
              "      <th>2</th>\n",
              "      <td>Morti stranieri</td>\n",
              "      <td>5243.0</td>\n",
              "      <td>4757.0</td>\n",
              "      <td>10000.0</td>\n",
              "    </tr>\n",
              "    <tr>\n",
              "      <th>3</th>\n",
              "      <td>Saldo naturale anagrafico degli stranieri</td>\n",
              "      <td>23798.0</td>\n",
              "      <td>23128.0</td>\n",
              "      <td>46926.0</td>\n",
              "    </tr>\n",
              "    <tr>\n",
              "      <th>4</th>\n",
              "      <td>Stranieri iscritti in anagrafe da altro comune</td>\n",
              "      <td>136406.0</td>\n",
              "      <td>119761.0</td>\n",
              "      <td>256167.0</td>\n",
              "    </tr>\n",
              "  </tbody>\n",
              "</table>\n",
              "</div>\n",
              "      <button class=\"colab-df-convert\" onclick=\"convertToInteractive('df-96f57728-f746-4d9a-8433-61bb40764289')\"\n",
              "              title=\"Convert this dataframe to an interactive table.\"\n",
              "              style=\"display:none;\">\n",
              "        \n",
              "  <svg xmlns=\"http://www.w3.org/2000/svg\" height=\"24px\"viewBox=\"0 0 24 24\"\n",
              "       width=\"24px\">\n",
              "    <path d=\"M0 0h24v24H0V0z\" fill=\"none\"/>\n",
              "    <path d=\"M18.56 5.44l.94 2.06.94-2.06 2.06-.94-2.06-.94-.94-2.06-.94 2.06-2.06.94zm-11 1L8.5 8.5l.94-2.06 2.06-.94-2.06-.94L8.5 2.5l-.94 2.06-2.06.94zm10 10l.94 2.06.94-2.06 2.06-.94-2.06-.94-.94-2.06-.94 2.06-2.06.94z\"/><path d=\"M17.41 7.96l-1.37-1.37c-.4-.4-.92-.59-1.43-.59-.52 0-1.04.2-1.43.59L10.3 9.45l-7.72 7.72c-.78.78-.78 2.05 0 2.83L4 21.41c.39.39.9.59 1.41.59.51 0 1.02-.2 1.41-.59l7.78-7.78 2.81-2.81c.8-.78.8-2.07 0-2.86zM5.41 20L4 18.59l7.72-7.72 1.47 1.35L5.41 20z\"/>\n",
              "  </svg>\n",
              "      </button>\n",
              "      \n",
              "  <style>\n",
              "    .colab-df-container {\n",
              "      display:flex;\n",
              "      flex-wrap:wrap;\n",
              "      gap: 12px;\n",
              "    }\n",
              "\n",
              "    .colab-df-convert {\n",
              "      background-color: #E8F0FE;\n",
              "      border: none;\n",
              "      border-radius: 50%;\n",
              "      cursor: pointer;\n",
              "      display: none;\n",
              "      fill: #1967D2;\n",
              "      height: 32px;\n",
              "      padding: 0 0 0 0;\n",
              "      width: 32px;\n",
              "    }\n",
              "\n",
              "    .colab-df-convert:hover {\n",
              "      background-color: #E2EBFA;\n",
              "      box-shadow: 0px 1px 2px rgba(60, 64, 67, 0.3), 0px 1px 3px 1px rgba(60, 64, 67, 0.15);\n",
              "      fill: #174EA6;\n",
              "    }\n",
              "\n",
              "    [theme=dark] .colab-df-convert {\n",
              "      background-color: #3B4455;\n",
              "      fill: #D2E3FC;\n",
              "    }\n",
              "\n",
              "    [theme=dark] .colab-df-convert:hover {\n",
              "      background-color: #434B5C;\n",
              "      box-shadow: 0px 1px 3px 1px rgba(0, 0, 0, 0.15);\n",
              "      filter: drop-shadow(0px 1px 2px rgba(0, 0, 0, 0.3));\n",
              "      fill: #FFFFFF;\n",
              "    }\n",
              "  </style>\n",
              "\n",
              "      <script>\n",
              "        const buttonEl =\n",
              "          document.querySelector('#df-96f57728-f746-4d9a-8433-61bb40764289 button.colab-df-convert');\n",
              "        buttonEl.style.display =\n",
              "          google.colab.kernel.accessAllowed ? 'block' : 'none';\n",
              "\n",
              "        async function convertToInteractive(key) {\n",
              "          const element = document.querySelector('#df-96f57728-f746-4d9a-8433-61bb40764289');\n",
              "          const dataTable =\n",
              "            await google.colab.kernel.invokeFunction('convertToInteractive',\n",
              "                                                     [key], {});\n",
              "          if (!dataTable) return;\n",
              "\n",
              "          const docLinkHtml = 'Like what you see? Visit the ' +\n",
              "            '<a target=\"_blank\" href=https://colab.research.google.com/notebooks/data_table.ipynb>data table notebook</a>'\n",
              "            + ' to learn more about interactive tables.';\n",
              "          element.innerHTML = '';\n",
              "          dataTable['output_type'] = 'display_data';\n",
              "          await google.colab.output.renderOutput(dataTable, element);\n",
              "          const docLink = document.createElement('div');\n",
              "          docLink.innerHTML = docLinkHtml;\n",
              "          element.appendChild(docLink);\n",
              "        }\n",
              "      </script>\n",
              "    </div>\n",
              "  </div>\n",
              "  "
            ]
          },
          "metadata": {},
          "execution_count": 154
        }
      ]
    },
    {
      "cell_type": "code",
      "source": [
        "#uncomment to see\n",
        "eda1_df19.info\n",
        "#eda1_df20.info\n",
        "#eda1_df21.info"
      ],
      "metadata": {
        "id": "65ItbfRkNt0f",
        "colab": {
          "base_uri": "https://localhost:8080/"
        },
        "outputId": "8cc27202-b35d-4894-cc7a-3a68a811251b"
      },
      "execution_count": null,
      "outputs": [
        {
          "output_type": "execute_result",
          "data": {
            "text/plain": [
              "<bound method DataFrame.info of                                             Variabile   Maschi  Femmine  \\\n",
              "0                 Popolazione straniera al 1° gennaio  2414285  2581873   \n",
              "1                                 Nati vivi stranieri    32250    30668   \n",
              "2                                     Morti stranieri     3937     3494   \n",
              "3           Saldo naturale anagrafico degli stranieri    28313    27174   \n",
              "4      Stranieri iscritti in anagrafe da altro comune   151135   133082   \n",
              "5   Stranieri cancellati dall'anagrafe per altro c...   151135   133082   \n",
              "6   Saldo migratorio anagrafico interno degli stra...        0        0   \n",
              "7          Stranieri iscritti in anagrafe dall'estero   130542   134029   \n",
              "8     Stranieri cancellati dall'anagrafe per l'estero    27494    29991   \n",
              "9   Saldo migratorio anagrafico estero degli stran...   103048   104038   \n",
              "10    Stranieri iscritti in anagrafe per altri motivi    25986    13603   \n",
              "11  Stranieri cancellati dall'anagrafe per altri m...    81410    50112   \n",
              "12  Saldo anagrafico per altri motivi degli stranieri   -55424   -36509   \n",
              "13           Stranieri iscritti in anagrafe in totale   307663   280714   \n",
              "14       Stranieri cancellati dall'anagrafe in totale   260039   213185   \n",
              "15  Saldo migratorio anagrafico e per altri motivi...    47624    67529   \n",
              "16           Acquisizioni della cittadinanza italiana    60111    66890   \n",
              "17  Unità straniere in più/meno dovute a variazion...        0        0   \n",
              "18                   Saldo censuario totale stranieri     1567    -1727   \n",
              "19               Popolazione straniera al 31 dicembre  2431678  2607959   \n",
              "20  Popolazione straniera residente in convivenza ...   107891    32697   \n",
              "21  Popolazione straniera residente in famiglia al...  2323787  2575262   \n",
              "22                                       Informazioni        b        b   \n",
              "\n",
              "     Totale  \n",
              "0   4996158  \n",
              "1     62918  \n",
              "2      7431  \n",
              "3     55487  \n",
              "4    284217  \n",
              "5    284217  \n",
              "6         0  \n",
              "7    264571  \n",
              "8     57485  \n",
              "9    207086  \n",
              "10    39589  \n",
              "11   131522  \n",
              "12   -91933  \n",
              "13   588377  \n",
              "14   473224  \n",
              "15   115153  \n",
              "16   127001  \n",
              "17        0  \n",
              "18     -160  \n",
              "19  5039637  \n",
              "20   140588  \n",
              "21  4899049  \n",
              "22        b  >"
            ]
          },
          "metadata": {},
          "execution_count": 155
        }
      ]
    },
    {
      "cell_type": "code",
      "source": [
        "#uncomment to see\n",
        "#eda1_df19\n",
        "eda1_df20\n",
        "#eda1_df21"
      ],
      "metadata": {
        "id": "Feo9SqBrgt9n",
        "colab": {
          "base_uri": "https://localhost:8080/",
          "height": 602
        },
        "outputId": "c3d41613-9366-4010-a9cf-33c63bf7c6a2"
      },
      "execution_count": null,
      "outputs": [
        {
          "output_type": "execute_result",
          "data": {
            "text/plain": [
              "                                            Variabile     Maschi    Femmine  \\\n",
              "0                 Popolazione straniera al 1° gennaio  2431678.0  2607959.0   \n",
              "1                                 Nati vivi stranieri    30768.0    29024.0   \n",
              "2                                     Morti stranieri     4904.0     4304.0   \n",
              "3           Saldo naturale anagrafico degli stranieri    25864.0    24720.0   \n",
              "4      Stranieri iscritti in anagrafe da altro comune   122281.0   113020.0   \n",
              "5   Stranieri cancellati dall'anagrafe per altro c...   122281.0   113020.0   \n",
              "6   Saldo migratorio anagrafico interno degli stra...        0.0        0.0   \n",
              "7          Stranieri iscritti in anagrafe dall'estero    96801.0    94965.0   \n",
              "8     Stranieri cancellati dall'anagrafe per l'estero    16804.0    22130.0   \n",
              "9   Saldo migratorio anagrafico estero degli stran...    79997.0    72835.0   \n",
              "10    Stranieri iscritti in anagrafe per altri motivi    15096.0     8051.0   \n",
              "11  Stranieri cancellati dall'anagrafe per altri m...    68793.0    44618.0   \n",
              "12  Saldo anagrafico per altri motivi degli stranieri   -53697.0   -36567.0   \n",
              "13           Stranieri iscritti in anagrafe in totale   234178.0   216036.0   \n",
              "14       Stranieri cancellati dall'anagrafe in totale   207878.0   179768.0   \n",
              "15  Saldo migratorio anagrafico e per altri motivi...    26300.0    36268.0   \n",
              "16           Acquisizioni della cittadinanza italiana    66600.0    65203.0   \n",
              "17  Unità straniere in più/meno dovute a variazion...        0.0        0.0   \n",
              "18                   Saldo censuario totale stranieri   107402.0    43506.0   \n",
              "19               Popolazione straniera al 31 dicembre  2524644.0  2647250.0   \n",
              "20  Popolazione straniera residente in convivenza ...   104564.0    37941.0   \n",
              "21  Popolazione straniera residente in famiglia al...  2420080.0  2609309.0   \n",
              "22                                       Informazioni        NaN        NaN   \n",
              "\n",
              "       Totale  \n",
              "0   5039637.0  \n",
              "1     59792.0  \n",
              "2      9208.0  \n",
              "3     50584.0  \n",
              "4    235301.0  \n",
              "5    235301.0  \n",
              "6         0.0  \n",
              "7    191766.0  \n",
              "8     38934.0  \n",
              "9    152832.0  \n",
              "10    23147.0  \n",
              "11   113411.0  \n",
              "12   -90264.0  \n",
              "13   450214.0  \n",
              "14   387646.0  \n",
              "15    62568.0  \n",
              "16   131803.0  \n",
              "17        0.0  \n",
              "18   150908.0  \n",
              "19  5171894.0  \n",
              "20   142505.0  \n",
              "21  5029389.0  \n",
              "22        NaN  "
            ],
            "text/html": [
              "\n",
              "  <div id=\"df-e25b3526-ff3e-4f18-82db-8ecbb0ecb7c3\">\n",
              "    <div class=\"colab-df-container\">\n",
              "      <div>\n",
              "<style scoped>\n",
              "    .dataframe tbody tr th:only-of-type {\n",
              "        vertical-align: middle;\n",
              "    }\n",
              "\n",
              "    .dataframe tbody tr th {\n",
              "        vertical-align: top;\n",
              "    }\n",
              "\n",
              "    .dataframe thead th {\n",
              "        text-align: right;\n",
              "    }\n",
              "</style>\n",
              "<table border=\"1\" class=\"dataframe\">\n",
              "  <thead>\n",
              "    <tr style=\"text-align: right;\">\n",
              "      <th></th>\n",
              "      <th>Variabile</th>\n",
              "      <th>Maschi</th>\n",
              "      <th>Femmine</th>\n",
              "      <th>Totale</th>\n",
              "    </tr>\n",
              "  </thead>\n",
              "  <tbody>\n",
              "    <tr>\n",
              "      <th>0</th>\n",
              "      <td>Popolazione straniera al 1° gennaio</td>\n",
              "      <td>2431678.0</td>\n",
              "      <td>2607959.0</td>\n",
              "      <td>5039637.0</td>\n",
              "    </tr>\n",
              "    <tr>\n",
              "      <th>1</th>\n",
              "      <td>Nati vivi stranieri</td>\n",
              "      <td>30768.0</td>\n",
              "      <td>29024.0</td>\n",
              "      <td>59792.0</td>\n",
              "    </tr>\n",
              "    <tr>\n",
              "      <th>2</th>\n",
              "      <td>Morti stranieri</td>\n",
              "      <td>4904.0</td>\n",
              "      <td>4304.0</td>\n",
              "      <td>9208.0</td>\n",
              "    </tr>\n",
              "    <tr>\n",
              "      <th>3</th>\n",
              "      <td>Saldo naturale anagrafico degli stranieri</td>\n",
              "      <td>25864.0</td>\n",
              "      <td>24720.0</td>\n",
              "      <td>50584.0</td>\n",
              "    </tr>\n",
              "    <tr>\n",
              "      <th>4</th>\n",
              "      <td>Stranieri iscritti in anagrafe da altro comune</td>\n",
              "      <td>122281.0</td>\n",
              "      <td>113020.0</td>\n",
              "      <td>235301.0</td>\n",
              "    </tr>\n",
              "    <tr>\n",
              "      <th>5</th>\n",
              "      <td>Stranieri cancellati dall'anagrafe per altro c...</td>\n",
              "      <td>122281.0</td>\n",
              "      <td>113020.0</td>\n",
              "      <td>235301.0</td>\n",
              "    </tr>\n",
              "    <tr>\n",
              "      <th>6</th>\n",
              "      <td>Saldo migratorio anagrafico interno degli stra...</td>\n",
              "      <td>0.0</td>\n",
              "      <td>0.0</td>\n",
              "      <td>0.0</td>\n",
              "    </tr>\n",
              "    <tr>\n",
              "      <th>7</th>\n",
              "      <td>Stranieri iscritti in anagrafe dall'estero</td>\n",
              "      <td>96801.0</td>\n",
              "      <td>94965.0</td>\n",
              "      <td>191766.0</td>\n",
              "    </tr>\n",
              "    <tr>\n",
              "      <th>8</th>\n",
              "      <td>Stranieri cancellati dall'anagrafe per l'estero</td>\n",
              "      <td>16804.0</td>\n",
              "      <td>22130.0</td>\n",
              "      <td>38934.0</td>\n",
              "    </tr>\n",
              "    <tr>\n",
              "      <th>9</th>\n",
              "      <td>Saldo migratorio anagrafico estero degli stran...</td>\n",
              "      <td>79997.0</td>\n",
              "      <td>72835.0</td>\n",
              "      <td>152832.0</td>\n",
              "    </tr>\n",
              "    <tr>\n",
              "      <th>10</th>\n",
              "      <td>Stranieri iscritti in anagrafe per altri motivi</td>\n",
              "      <td>15096.0</td>\n",
              "      <td>8051.0</td>\n",
              "      <td>23147.0</td>\n",
              "    </tr>\n",
              "    <tr>\n",
              "      <th>11</th>\n",
              "      <td>Stranieri cancellati dall'anagrafe per altri m...</td>\n",
              "      <td>68793.0</td>\n",
              "      <td>44618.0</td>\n",
              "      <td>113411.0</td>\n",
              "    </tr>\n",
              "    <tr>\n",
              "      <th>12</th>\n",
              "      <td>Saldo anagrafico per altri motivi degli stranieri</td>\n",
              "      <td>-53697.0</td>\n",
              "      <td>-36567.0</td>\n",
              "      <td>-90264.0</td>\n",
              "    </tr>\n",
              "    <tr>\n",
              "      <th>13</th>\n",
              "      <td>Stranieri iscritti in anagrafe in totale</td>\n",
              "      <td>234178.0</td>\n",
              "      <td>216036.0</td>\n",
              "      <td>450214.0</td>\n",
              "    </tr>\n",
              "    <tr>\n",
              "      <th>14</th>\n",
              "      <td>Stranieri cancellati dall'anagrafe in totale</td>\n",
              "      <td>207878.0</td>\n",
              "      <td>179768.0</td>\n",
              "      <td>387646.0</td>\n",
              "    </tr>\n",
              "    <tr>\n",
              "      <th>15</th>\n",
              "      <td>Saldo migratorio anagrafico e per altri motivi...</td>\n",
              "      <td>26300.0</td>\n",
              "      <td>36268.0</td>\n",
              "      <td>62568.0</td>\n",
              "    </tr>\n",
              "    <tr>\n",
              "      <th>16</th>\n",
              "      <td>Acquisizioni della cittadinanza italiana</td>\n",
              "      <td>66600.0</td>\n",
              "      <td>65203.0</td>\n",
              "      <td>131803.0</td>\n",
              "    </tr>\n",
              "    <tr>\n",
              "      <th>17</th>\n",
              "      <td>Unità straniere in più/meno dovute a variazion...</td>\n",
              "      <td>0.0</td>\n",
              "      <td>0.0</td>\n",
              "      <td>0.0</td>\n",
              "    </tr>\n",
              "    <tr>\n",
              "      <th>18</th>\n",
              "      <td>Saldo censuario totale stranieri</td>\n",
              "      <td>107402.0</td>\n",
              "      <td>43506.0</td>\n",
              "      <td>150908.0</td>\n",
              "    </tr>\n",
              "    <tr>\n",
              "      <th>19</th>\n",
              "      <td>Popolazione straniera al 31 dicembre</td>\n",
              "      <td>2524644.0</td>\n",
              "      <td>2647250.0</td>\n",
              "      <td>5171894.0</td>\n",
              "    </tr>\n",
              "    <tr>\n",
              "      <th>20</th>\n",
              "      <td>Popolazione straniera residente in convivenza ...</td>\n",
              "      <td>104564.0</td>\n",
              "      <td>37941.0</td>\n",
              "      <td>142505.0</td>\n",
              "    </tr>\n",
              "    <tr>\n",
              "      <th>21</th>\n",
              "      <td>Popolazione straniera residente in famiglia al...</td>\n",
              "      <td>2420080.0</td>\n",
              "      <td>2609309.0</td>\n",
              "      <td>5029389.0</td>\n",
              "    </tr>\n",
              "    <tr>\n",
              "      <th>22</th>\n",
              "      <td>Informazioni</td>\n",
              "      <td>NaN</td>\n",
              "      <td>NaN</td>\n",
              "      <td>NaN</td>\n",
              "    </tr>\n",
              "  </tbody>\n",
              "</table>\n",
              "</div>\n",
              "      <button class=\"colab-df-convert\" onclick=\"convertToInteractive('df-e25b3526-ff3e-4f18-82db-8ecbb0ecb7c3')\"\n",
              "              title=\"Convert this dataframe to an interactive table.\"\n",
              "              style=\"display:none;\">\n",
              "        \n",
              "  <svg xmlns=\"http://www.w3.org/2000/svg\" height=\"24px\"viewBox=\"0 0 24 24\"\n",
              "       width=\"24px\">\n",
              "    <path d=\"M0 0h24v24H0V0z\" fill=\"none\"/>\n",
              "    <path d=\"M18.56 5.44l.94 2.06.94-2.06 2.06-.94-2.06-.94-.94-2.06-.94 2.06-2.06.94zm-11 1L8.5 8.5l.94-2.06 2.06-.94-2.06-.94L8.5 2.5l-.94 2.06-2.06.94zm10 10l.94 2.06.94-2.06 2.06-.94-2.06-.94-.94-2.06-.94 2.06-2.06.94z\"/><path d=\"M17.41 7.96l-1.37-1.37c-.4-.4-.92-.59-1.43-.59-.52 0-1.04.2-1.43.59L10.3 9.45l-7.72 7.72c-.78.78-.78 2.05 0 2.83L4 21.41c.39.39.9.59 1.41.59.51 0 1.02-.2 1.41-.59l7.78-7.78 2.81-2.81c.8-.78.8-2.07 0-2.86zM5.41 20L4 18.59l7.72-7.72 1.47 1.35L5.41 20z\"/>\n",
              "  </svg>\n",
              "      </button>\n",
              "      \n",
              "  <style>\n",
              "    .colab-df-container {\n",
              "      display:flex;\n",
              "      flex-wrap:wrap;\n",
              "      gap: 12px;\n",
              "    }\n",
              "\n",
              "    .colab-df-convert {\n",
              "      background-color: #E8F0FE;\n",
              "      border: none;\n",
              "      border-radius: 50%;\n",
              "      cursor: pointer;\n",
              "      display: none;\n",
              "      fill: #1967D2;\n",
              "      height: 32px;\n",
              "      padding: 0 0 0 0;\n",
              "      width: 32px;\n",
              "    }\n",
              "\n",
              "    .colab-df-convert:hover {\n",
              "      background-color: #E2EBFA;\n",
              "      box-shadow: 0px 1px 2px rgba(60, 64, 67, 0.3), 0px 1px 3px 1px rgba(60, 64, 67, 0.15);\n",
              "      fill: #174EA6;\n",
              "    }\n",
              "\n",
              "    [theme=dark] .colab-df-convert {\n",
              "      background-color: #3B4455;\n",
              "      fill: #D2E3FC;\n",
              "    }\n",
              "\n",
              "    [theme=dark] .colab-df-convert:hover {\n",
              "      background-color: #434B5C;\n",
              "      box-shadow: 0px 1px 3px 1px rgba(0, 0, 0, 0.15);\n",
              "      filter: drop-shadow(0px 1px 2px rgba(0, 0, 0, 0.3));\n",
              "      fill: #FFFFFF;\n",
              "    }\n",
              "  </style>\n",
              "\n",
              "      <script>\n",
              "        const buttonEl =\n",
              "          document.querySelector('#df-e25b3526-ff3e-4f18-82db-8ecbb0ecb7c3 button.colab-df-convert');\n",
              "        buttonEl.style.display =\n",
              "          google.colab.kernel.accessAllowed ? 'block' : 'none';\n",
              "\n",
              "        async function convertToInteractive(key) {\n",
              "          const element = document.querySelector('#df-e25b3526-ff3e-4f18-82db-8ecbb0ecb7c3');\n",
              "          const dataTable =\n",
              "            await google.colab.kernel.invokeFunction('convertToInteractive',\n",
              "                                                     [key], {});\n",
              "          if (!dataTable) return;\n",
              "\n",
              "          const docLinkHtml = 'Like what you see? Visit the ' +\n",
              "            '<a target=\"_blank\" href=https://colab.research.google.com/notebooks/data_table.ipynb>data table notebook</a>'\n",
              "            + ' to learn more about interactive tables.';\n",
              "          element.innerHTML = '';\n",
              "          dataTable['output_type'] = 'display_data';\n",
              "          await google.colab.output.renderOutput(dataTable, element);\n",
              "          const docLink = document.createElement('div');\n",
              "          docLink.innerHTML = docLinkHtml;\n",
              "          element.appendChild(docLink);\n",
              "        }\n",
              "      </script>\n",
              "    </div>\n",
              "  </div>\n",
              "  "
            ]
          },
          "metadata": {},
          "execution_count": 157
        }
      ]
    },
    {
      "cell_type": "code",
      "source": [
        "#Immigrants on 1st Jenuary 2019\n",
        "f19 = int(eda1_df19['Femmine'].iloc[0])\n",
        "m19 = int(eda1_df19['Maschi'].iloc[0])\n",
        "tot19 = int(eda1_df19['Totale'].iloc[0])\n",
        "#create list of values\n",
        "\n",
        "values_19 = [f19, m19, tot19]\n",
        "#values_19\n",
        "\n",
        "#Immigrants on 1st Jenuary 2019\n",
        "f20 = int(eda1_df20['Femmine'].iloc[0])\n",
        "m20 = int(eda1_df20['Maschi'].iloc[0])\n",
        "tot20 = int(eda1_df20['Totale'].iloc[0])\n",
        "#create list of values\n",
        "values_20 = [f20, m20, tot20]\n",
        "#values_20\n",
        "\n",
        "#Immigrants on 1st Jenuary 2019\n",
        "f21 = int(eda1_df21['Femmine'].iloc[0])\n",
        "m21 = int(eda1_df21['Maschi'].iloc[0])\n",
        "tot21 = int(eda1_df21['Totale'].iloc[0])\n",
        "#create list of values\n",
        "values_21 = [f21, m21, tot21]\n",
        "#values_21\n",
        "\n",
        "\n",
        "\n",
        "firstrow = pd.DataFrame({'FEMALES': values_19[0],\n",
        "                   'MALES': values_19[1], \n",
        "                   'TOTAL': values_19[2],\n",
        "                   'YEAR': ['2019']})\n",
        "\n",
        "secondrow = pd.DataFrame({'FEMALES': values_20[0],\n",
        "                   'MALES': values_20[1], \n",
        "                   'TOTAL': values_20[2],\n",
        "                   'YEAR': ['2020']})\n",
        "\n",
        "thirdrow = pd.DataFrame({'FEMALES': values_21[0],\n",
        "                   'MALES': values_21[1], \n",
        "                   'TOTAL': values_21[2],\n",
        "                   'YEAR': ['2021']})\n",
        "\n",
        "\n",
        "immigrants_192021 = pd.concat([firstrow, secondrow, thirdrow], axis=0)\n",
        "\n",
        "#immigrants_192021.dtypes CHECKED\n",
        "#immigrants_192021.info() CHECKED\n",
        "immigrants_192021.set_index('YEAR')\n"
      ],
      "metadata": {
        "id": "Bx7GCniUj-NO",
        "colab": {
          "base_uri": "https://localhost:8080/",
          "height": 175
        },
        "outputId": "1cedb3f4-4666-40fd-cd61-b39b364b0a19"
      },
      "execution_count": null,
      "outputs": [
        {
          "output_type": "execute_result",
          "data": {
            "text/plain": [
              "      FEMALES    MALES    TOTAL\n",
              "YEAR                           \n",
              "2019  2581873  2414285  4996158\n",
              "2020  2607959  2431678  5039637\n",
              "2021  2647250  2524644  5171894"
            ],
            "text/html": [
              "\n",
              "  <div id=\"df-e625e77e-faa9-4f3c-9df8-40e74df0fc5b\">\n",
              "    <div class=\"colab-df-container\">\n",
              "      <div>\n",
              "<style scoped>\n",
              "    .dataframe tbody tr th:only-of-type {\n",
              "        vertical-align: middle;\n",
              "    }\n",
              "\n",
              "    .dataframe tbody tr th {\n",
              "        vertical-align: top;\n",
              "    }\n",
              "\n",
              "    .dataframe thead th {\n",
              "        text-align: right;\n",
              "    }\n",
              "</style>\n",
              "<table border=\"1\" class=\"dataframe\">\n",
              "  <thead>\n",
              "    <tr style=\"text-align: right;\">\n",
              "      <th></th>\n",
              "      <th>FEMALES</th>\n",
              "      <th>MALES</th>\n",
              "      <th>TOTAL</th>\n",
              "    </tr>\n",
              "    <tr>\n",
              "      <th>YEAR</th>\n",
              "      <th></th>\n",
              "      <th></th>\n",
              "      <th></th>\n",
              "    </tr>\n",
              "  </thead>\n",
              "  <tbody>\n",
              "    <tr>\n",
              "      <th>2019</th>\n",
              "      <td>2581873</td>\n",
              "      <td>2414285</td>\n",
              "      <td>4996158</td>\n",
              "    </tr>\n",
              "    <tr>\n",
              "      <th>2020</th>\n",
              "      <td>2607959</td>\n",
              "      <td>2431678</td>\n",
              "      <td>5039637</td>\n",
              "    </tr>\n",
              "    <tr>\n",
              "      <th>2021</th>\n",
              "      <td>2647250</td>\n",
              "      <td>2524644</td>\n",
              "      <td>5171894</td>\n",
              "    </tr>\n",
              "  </tbody>\n",
              "</table>\n",
              "</div>\n",
              "      <button class=\"colab-df-convert\" onclick=\"convertToInteractive('df-e625e77e-faa9-4f3c-9df8-40e74df0fc5b')\"\n",
              "              title=\"Convert this dataframe to an interactive table.\"\n",
              "              style=\"display:none;\">\n",
              "        \n",
              "  <svg xmlns=\"http://www.w3.org/2000/svg\" height=\"24px\"viewBox=\"0 0 24 24\"\n",
              "       width=\"24px\">\n",
              "    <path d=\"M0 0h24v24H0V0z\" fill=\"none\"/>\n",
              "    <path d=\"M18.56 5.44l.94 2.06.94-2.06 2.06-.94-2.06-.94-.94-2.06-.94 2.06-2.06.94zm-11 1L8.5 8.5l.94-2.06 2.06-.94-2.06-.94L8.5 2.5l-.94 2.06-2.06.94zm10 10l.94 2.06.94-2.06 2.06-.94-2.06-.94-.94-2.06-.94 2.06-2.06.94z\"/><path d=\"M17.41 7.96l-1.37-1.37c-.4-.4-.92-.59-1.43-.59-.52 0-1.04.2-1.43.59L10.3 9.45l-7.72 7.72c-.78.78-.78 2.05 0 2.83L4 21.41c.39.39.9.59 1.41.59.51 0 1.02-.2 1.41-.59l7.78-7.78 2.81-2.81c.8-.78.8-2.07 0-2.86zM5.41 20L4 18.59l7.72-7.72 1.47 1.35L5.41 20z\"/>\n",
              "  </svg>\n",
              "      </button>\n",
              "      \n",
              "  <style>\n",
              "    .colab-df-container {\n",
              "      display:flex;\n",
              "      flex-wrap:wrap;\n",
              "      gap: 12px;\n",
              "    }\n",
              "\n",
              "    .colab-df-convert {\n",
              "      background-color: #E8F0FE;\n",
              "      border: none;\n",
              "      border-radius: 50%;\n",
              "      cursor: pointer;\n",
              "      display: none;\n",
              "      fill: #1967D2;\n",
              "      height: 32px;\n",
              "      padding: 0 0 0 0;\n",
              "      width: 32px;\n",
              "    }\n",
              "\n",
              "    .colab-df-convert:hover {\n",
              "      background-color: #E2EBFA;\n",
              "      box-shadow: 0px 1px 2px rgba(60, 64, 67, 0.3), 0px 1px 3px 1px rgba(60, 64, 67, 0.15);\n",
              "      fill: #174EA6;\n",
              "    }\n",
              "\n",
              "    [theme=dark] .colab-df-convert {\n",
              "      background-color: #3B4455;\n",
              "      fill: #D2E3FC;\n",
              "    }\n",
              "\n",
              "    [theme=dark] .colab-df-convert:hover {\n",
              "      background-color: #434B5C;\n",
              "      box-shadow: 0px 1px 3px 1px rgba(0, 0, 0, 0.15);\n",
              "      filter: drop-shadow(0px 1px 2px rgba(0, 0, 0, 0.3));\n",
              "      fill: #FFFFFF;\n",
              "    }\n",
              "  </style>\n",
              "\n",
              "      <script>\n",
              "        const buttonEl =\n",
              "          document.querySelector('#df-e625e77e-faa9-4f3c-9df8-40e74df0fc5b button.colab-df-convert');\n",
              "        buttonEl.style.display =\n",
              "          google.colab.kernel.accessAllowed ? 'block' : 'none';\n",
              "\n",
              "        async function convertToInteractive(key) {\n",
              "          const element = document.querySelector('#df-e625e77e-faa9-4f3c-9df8-40e74df0fc5b');\n",
              "          const dataTable =\n",
              "            await google.colab.kernel.invokeFunction('convertToInteractive',\n",
              "                                                     [key], {});\n",
              "          if (!dataTable) return;\n",
              "\n",
              "          const docLinkHtml = 'Like what you see? Visit the ' +\n",
              "            '<a target=\"_blank\" href=https://colab.research.google.com/notebooks/data_table.ipynb>data table notebook</a>'\n",
              "            + ' to learn more about interactive tables.';\n",
              "          element.innerHTML = '';\n",
              "          dataTable['output_type'] = 'display_data';\n",
              "          await google.colab.output.renderOutput(dataTable, element);\n",
              "          const docLink = document.createElement('div');\n",
              "          docLink.innerHTML = docLinkHtml;\n",
              "          element.appendChild(docLink);\n",
              "        }\n",
              "      </script>\n",
              "    </div>\n",
              "  </div>\n",
              "  "
            ]
          },
          "metadata": {},
          "execution_count": 158
        }
      ]
    },
    {
      "cell_type": "code",
      "source": [
        "immigrants_192021.plot(x=\"YEAR\", y=\"FEMALES\", kind=\"bar\", rot=5, fontsize=4)\n",
        "immigrants_192021.plot(x=\"YEAR\", y=\"MALES\", kind=\"bar\", rot=5, fontsize=4)"
      ],
      "metadata": {
        "colab": {
          "base_uri": "https://localhost:8080/",
          "height": 914
        },
        "id": "Q_QWcbs6Fotu",
        "outputId": "8adcae15-beb8-4c7e-ff89-dc8551c6d465"
      },
      "execution_count": null,
      "outputs": [
        {
          "output_type": "execute_result",
          "data": {
            "text/plain": [
              "<Axes: xlabel='YEAR'>"
            ]
          },
          "metadata": {},
          "execution_count": 159
        },
        {
          "output_type": "display_data",
          "data": {
            "text/plain": [
              "<Figure size 640x480 with 1 Axes>"
            ],
            "image/png": "[encoded data removed]"
          },
          "metadata": {}
        },
        {
          "output_type": "display_data",
          "data": {
            "text/plain": [
              "<Figure size 640x480 with 1 Axes>"
            ],
            "image/png": "[encoded data removed]"
          },
          "metadata": {}
        }
      ]
    },
    {
      "cell_type": "code",
      "source": [
        "immigrants_192021.plot(kind=\"barh\", fontsize=4)"
      ],
      "metadata": {
        "colab": {
          "base_uri": "https://localhost:8080/",
          "height": 456
        },
        "id": "oY99rgM0ISnV",
        "outputId": "faeb9827-8c48-4a2b-d270-eaa9f7a99481"
      },
      "execution_count": null,
      "outputs": [
        {
          "output_type": "execute_result",
          "data": {
            "text/plain": [
              "<Axes: >"
            ]
          },
          "metadata": {},
          "execution_count": 160
        },
        {
          "output_type": "display_data",
          "data": {
            "text/plain": [
              "<Figure size 640x480 with 1 Axes>"
            ],
            "image/png": "[encoded data removed]"
          },
          "metadata": {}
        }
      ]
    },
    {
      "cell_type": "code",
      "source": [
        "#SOURCE FOR THESE GRAPHS: https://realpython.com/pandas-plot-python/"
      ],
      "metadata": {
        "id": "GowNi_GNIzFZ"
      },
      "execution_count": null,
      "outputs": []
    },
    {
      "cell_type": "markdown",
      "source": [
        "# [Basic Exploration]\n",
        "**In this section we're retreiving basically the countries of provenance of immigrants. It will not be possible to retrieve the sex of people according to their provenance, because the dataset is not completed from this point of view.**"
      ],
      "metadata": {
        "id": "1sYNKRq4KjfB"
      }
    },
    {
      "cell_type": "code",
      "source": [
        "eda2_path_1720 = '/content/open-access/_datasets/Cittadini stranieri non comunitari/ISTAT-Stranieri non comunitari[2017-2020].csv'\n",
        "\n",
        "eda2_df_1720 = pd.read_csv(eda2_path_1720)\n",
        "#eda2_df_1720\n",
        "\n",
        "\n",
        "# nb: it's impossible to retrieve data about the sex of people according to their provenance, because some values are indicated as \"totale\" instead of \"maschi\" or \"femmine\". \n",
        "# Therefore, we'll retreive data on the provenance of people only according the year\n",
        "\n",
        "# Retrieve the Countries of provenance according to the year 2017\n",
        "eda2_series_17 = eda2_df_1720.loc[eda2_df_1720['TIME'] == 2017]\n",
        "#uncomment to see the structure of the dataset:\n",
        "#eda2_series_17\n",
        "\n",
        "eda2_series_17_countries = eda2_series_17['Principali Paesi di cittadinanza'].tolist() #column to list\n",
        "\n",
        "#let's create a list with all the countries of provenance for year 2017\n",
        "eda2_series_17_countries_clean = [] #empty list to eliminate duplicates\n",
        "for x in eda2_series_17_countries:\n",
        "  if x not in eda2_series_17_countries_clean:\n",
        "    eda2_series_17_countries_clean.append(x)\n",
        "\n",
        "# Countries of provenance for YEAR 2017\n",
        "#uncomment> eda2_series_17_countries_clean\n",
        "\n",
        "# ------------------------------------------------------\n",
        "\n",
        "# Retrieve the Countries of provenance according to the year 2018\n",
        "eda2_series_18 = eda2_df_1720.loc[eda2_df_1720['TIME'] == 2018]\n",
        "#uncomment to see the structure of the dataset:\n",
        "#eda2_series_18\n",
        "\n",
        "eda2_series_18_countries = eda2_series_18['Principali Paesi di cittadinanza'].tolist() #column to list\n",
        "\n",
        "#let's create a list with all the countries of provenance for year 2018\n",
        "eda2_series_18_countries_clean = [] #empty list to eliminate duplicates\n",
        "for x in eda2_series_18_countries:\n",
        "  if x not in eda2_series_18_countries_clean:\n",
        "    eda2_series_18_countries_clean.append(x)\n",
        "\n",
        "# Countries of provenance for YEAR 2018\n",
        "#uncomment> eda2_series_18_countries_clean\n",
        "\n",
        "# ------------------------------------------------------\n",
        "\n",
        "# Retrieve the Countries of provenance according to the year 2019\n",
        "eda2_series_19 = eda2_df_1720.loc[eda2_df_1720['TIME'] == 2019]\n",
        "#uncomment to see the structure of the dataset:\n",
        "#eda2_series_19\n",
        "\n",
        "eda2_series_19_countries = eda2_series_19['Principali Paesi di cittadinanza'].tolist() #column to list\n",
        "\n",
        "#let's create a list with all the countries of provenance for year 2019\n",
        "eda2_series_19_countries_clean = [] #empty list to eliminate duplicates\n",
        "for x in eda2_series_19_countries:\n",
        "  if x not in eda2_series_19_countries_clean:\n",
        "    eda2_series_19_countries_clean.append(x)\n",
        "\n",
        "# Countries of provenance for YEAR 2019\n",
        "#uncomment> eda2_series_19_countries_clean\n",
        "\n",
        "# ------------------------------------------------------\n",
        "\n",
        "# Retrieve the Countries of provenance according to the year 2020\n",
        "eda2_series_20 = eda2_df_1720.loc[eda2_df_1720['TIME'] == 2020]\n",
        "#uncomment to see the structure of the dataset:\n",
        "#eda2_series_20\n",
        "\n",
        "eda2_series_20_countries = eda2_series_20['Principali Paesi di cittadinanza'].tolist() #column to list\n",
        "\n",
        "#let's create a list with all the countries of provenance for year 2020\n",
        "eda2_series_20_countries_clean = [] #empty list to eliminate duplicates\n",
        "for x in eda2_series_20_countries:\n",
        "  if x not in eda2_series_20_countries_clean:\n",
        "    eda2_series_20_countries_clean.append(x)\n",
        "\n",
        "# Countries of provenance for YEAR 2020\n",
        "#uncomment> eda2_series_20_countries_clean\n"
      ],
      "metadata": {
        "id": "E_XNT8CUK23V",
        "colab": {
          "base_uri": "https://localhost:8080/"
        },
        "outputId": "57156f8c-f934-4ae7-b970-0264d2e50978"
      },
      "execution_count": 183,
      "outputs": [
        {
          "output_type": "execute_result",
          "data": {
            "text/plain": [
              "['Moldova',\n",
              " 'Brasile',\n",
              " 'Albania',\n",
              " 'Ghana',\n",
              " 'Sri Lanka (ex Ceylon)',\n",
              " 'Marocco',\n",
              " 'Mondo',\n",
              " 'Egitto',\n",
              " 'Bangladesh',\n",
              " 'Cina',\n",
              " 'India',\n",
              " 'Nigeria',\n",
              " 'Ucraina',\n",
              " 'Senegal',\n",
              " 'Tunisia',\n",
              " 'Perù',\n",
              " 'Filippine',\n",
              " 'Russia',\n",
              " 'Pakistan',\n",
              " 'Stati Uniti',\n",
              " \"Costa d'Avorio\",\n",
              " 'Afghanistan',\n",
              " 'Etiopia',\n",
              " \"Iran, Repubblica islamica dell'\",\n",
              " 'Camerun',\n",
              " 'Cuba',\n",
              " 'Europa centro-orientale',\n",
              " 'Dominicana, Repubblica',\n",
              " 'Serbia, Repubblica di',\n",
              " 'Gambia',\n",
              " 'Oceania',\n",
              " 'Eritrea',\n",
              " 'Iraq',\n",
              " 'Guinea',\n",
              " 'Apolide',\n",
              " 'America settentrionale',\n",
              " 'America centro-meridionale',\n",
              " 'Kosovo',\n",
              " 'Algeria',\n",
              " 'Africa settentrionale',\n",
              " 'Turchia',\n",
              " 'Asia orientale',\n",
              " 'Mauritius',\n",
              " 'Georgia',\n",
              " 'Congo (Repubblica del)',\n",
              " 'Siria',\n",
              " 'Asia centro-meridionale',\n",
              " 'Bosnia-Erzegovina',\n",
              " 'Mali',\n",
              " 'Libano',\n",
              " 'Africa occidentale',\n",
              " 'Somalia',\n",
              " 'Macedonia, Ex Repubblica Jugoslava di',\n",
              " 'Africa centro-meridionale',\n",
              " 'Argentina',\n",
              " 'Europa',\n",
              " 'Asia occidentale',\n",
              " 'Asia',\n",
              " 'Africa orientale',\n",
              " 'Ecuador',\n",
              " 'Africa',\n",
              " 'Colombia',\n",
              " 'Burkina Faso (ex Alto Volta)',\n",
              " 'America',\n",
              " 'Serbia e Montenegro']"
            ]
          },
          "metadata": {},
          "execution_count": 183
        }
      ]
    },
    {
      "cell_type": "markdown",
      "source": [
        " "
      ],
      "metadata": {
        "id": "kqq1wY-8koG-"
      }
    }
  ]
}